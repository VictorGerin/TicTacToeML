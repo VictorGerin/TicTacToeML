{
 "cells": [
  {
   "cell_type": "code",
   "execution_count": 8,
   "metadata": {},
   "outputs": [],
   "source": [
    "import tensorflow_decision_forests as tfdf\n",
    "import tensorflow as tf\n",
    "import pandas as pd\n",
    "import json\n",
    "\n",
    "\n",
    "from TicTacToe.game import Game\n",
    "from TicTacToe.player import Stupid_IA_Player\n",
    "from player import *\n",
    "\n"
   ]
  },
  {
   "cell_type": "code",
   "execution_count": 9,
   "metadata": {},
   "outputs": [],
   "source": [
    "tf.keras.utils.disable_interactive_logging()"
   ]
  },
  {
   "cell_type": "code",
   "execution_count": 10,
   "metadata": {},
   "outputs": [],
   "source": [
    "def play_until_finish(game: Game, p1: Player, p2: Player):\n",
    "        \n",
    "    while not game.finished():\n",
    "        game.play(p1.nextMove())\n",
    "\n",
    "        if game.finished():\n",
    "            break\n",
    "\n",
    "        game.play(p2.nextMove())\n",
    "\n",
    "        pass\n",
    "    pass\n",
    "\n",
    "def show_percent(pcent):\n",
    "    print('\\r|' + '=' * int(pcent * 100) + ' ' * int((1 - pcent) * 100) + \"| {:.2f}%\".format(pcent * 100), end='', flush=True)"
   ]
  },
  {
   "cell_type": "code",
   "execution_count": 8,
   "metadata": {},
   "outputs": [
    {
     "name": "stdout",
     "output_type": "stream",
     "text": [
      "loading\n",
      "|==================================================================                                 | 66.09%%"
     ]
    }
   ],
   "source": [
    "def testar_stupid_vs_stupid(qtdTestes):\n",
    "    print(\"loading\")\n",
    "    game: Game = Game()\n",
    "    player1 = Stupid_IA_Player(game)\n",
    "    player2 = Stupid_IA_Player(game)\n",
    "    wins_draws = []\n",
    "    for i in range(qtdTestes + 1):\n",
    "\n",
    "        show_percent(i / qtdTestes)\n",
    "\n",
    "        game.reset()\n",
    "        play_until_finish(game, player1, player2)\n",
    "\n",
    "        wins_draws.append({\n",
    "            \"winner\": game.winner(),\n",
    "            \"draw\": game.draw()\n",
    "        })\n",
    "    json.dump(wins_draws, open(\"win_draws_with_stupids.json\", 'w'))\n",
    "    pass\n",
    "testar_stupid_vs_stupid(1000000)"
   ]
  },
  {
   "cell_type": "code",
   "execution_count": 11,
   "metadata": {},
   "outputs": [
    {
     "name": "stdout",
     "output_type": "stream",
     "text": [
      "loading\n"
     ]
    },
    {
     "name": "stderr",
     "output_type": "stream",
     "text": [
      "[INFO 23-12-12 12:08:37.1151 -03 kernel.cc:1233] Loading model from path IA_Models/player1/assets/ with prefix 429fc97c28b24177\n",
      "[INFO 23-12-12 12:08:37.7457 -03 decision_forest.cc:660] Model loaded with 300 root(s), 196406 node(s), and 9 input feature(s).\n",
      "[INFO 23-12-12 12:08:37.7458 -03 abstract_model.cc:1344] Engine \"RandomForestGeneric\" built\n",
      "[INFO 23-12-12 12:08:37.7459 -03 kernel.cc:1061] Use fast generic engine\n"
     ]
    },
    {
     "name": "stdout",
     "output_type": "stream",
     "text": [
      "|=                                                                                                  | 1.21%%"
     ]
    },
    {
     "name": "stderr",
     "output_type": "stream",
     "text": [
      "2023-12-12 12:09:53.629454: W tensorflow/core/data/root_dataset.cc:342] Optimization loop failed: CANCELLED: Operation was cancelled\n"
     ]
    },
    {
     "name": "stdout",
     "output_type": "stream",
     "text": [
      "|====================================================================================================| 100.00%"
     ]
    }
   ],
   "source": [
    "def testarIABoa_vsStupida(qtdTestes):\n",
    "    print(\"loading\")\n",
    "    game: Game = Game()\n",
    "    player1 = IA_Player(game, \"IA_Models/player1\")\n",
    "    player2 = Stupid_IA_Player(game)\n",
    "    wins_draws = []\n",
    "    for i in range(qtdTestes + 1):\n",
    "\n",
    "        show_percent(i / qtdTestes)\n",
    "\n",
    "        game.reset()\n",
    "        play_until_finish(game, player1, player2)\n",
    "\n",
    "        wins_draws.append({\n",
    "            \"winner\": game.winner(),\n",
    "            \"draw\": game.draw()\n",
    "        })\n",
    "    json.dump(wins_draws, open(\"win_draws.json\", 'w'))\n",
    "testarIABoa_vsStupida(100000)"
   ]
  },
  {
   "cell_type": "code",
   "execution_count": 12,
   "metadata": {},
   "outputs": [
    {
     "data": {
      "text/plain": [
       "winner  draw \n",
       "X       False    88465\n",
       "False   True      6561\n",
       "Y       False     4975\n",
       "Name: count, dtype: int64"
      ]
     },
     "execution_count": 12,
     "metadata": {},
     "output_type": "execute_result"
    }
   ],
   "source": [
    "df = pd.read_json('win_draws.json')\n",
    "df.value_counts()\n"
   ]
  },
  {
   "cell_type": "code",
   "execution_count": 13,
   "metadata": {},
   "outputs": [
    {
     "data": {
      "text/plain": [
       "winner  draw \n",
       "X       False    584237\n",
       "Y       False    288635\n",
       "False   True     127129\n",
       "Name: count, dtype: int64"
      ]
     },
     "execution_count": 13,
     "metadata": {},
     "output_type": "execute_result"
    }
   ],
   "source": [
    "df = pd.read_json('win_draws_with_stupids.json')\n",
    "df.value_counts()\n"
   ]
  },
  {
   "cell_type": "code",
   "execution_count": null,
   "metadata": {},
   "outputs": [],
   "source": []
  }
 ],
 "metadata": {
  "kernelspec": {
   "display_name": "Python 3",
   "language": "python",
   "name": "python3"
  },
  "language_info": {
   "codemirror_mode": {
    "name": "ipython",
    "version": 3
   },
   "file_extension": ".py",
   "mimetype": "text/x-python",
   "name": "python",
   "nbconvert_exporter": "python",
   "pygments_lexer": "ipython3",
   "version": "3.10.12"
  }
 },
 "nbformat": 4,
 "nbformat_minor": 2
}
