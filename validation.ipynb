{
 "cells": [
  {
   "cell_type": "code",
   "execution_count": 6,
   "metadata": {},
   "outputs": [],
   "source": [
    "import tensorflow as tf\n",
    "import pandas as pd\n",
    "import tensorflow as tf\n",
    "import json\n",
    "\n",
    "\n",
    "from TicTacToe.game import Game\n",
    "from TicTacToe.player import Stupid_IA_Player\n",
    "from player import *\n",
    "\n"
   ]
  },
  {
   "cell_type": "code",
   "execution_count": 7,
   "metadata": {},
   "outputs": [],
   "source": [
    "tf.keras.utils.disable_interactive_logging()"
   ]
  },
  {
   "cell_type": "code",
   "execution_count": 9,
   "metadata": {},
   "outputs": [
    {
     "name": "stdout",
     "output_type": "stream",
     "text": [
      "loading\n"
     ]
    },
    {
     "name": "stderr",
     "output_type": "stream",
     "text": [
      "[INFO 23-12-11 15:03:52.9829 -03 kernel.cc:1233] Loading model from path player1/assets/ with prefix 429fc97c28b24177\n"
     ]
    },
    {
     "name": "stdout",
     "output_type": "stream",
     "text": [
      "|                                                                                                    | 0.00%"
     ]
    },
    {
     "name": "stderr",
     "output_type": "stream",
     "text": [
      "[INFO 23-12-11 15:05:20.6035 -03 decision_forest.cc:660] Model loaded with 300 root(s), 196406 node(s), and 9 input feature(s).\n",
      "[INFO 23-12-11 15:05:20.6035 -03 abstract_model.cc:1344] Engine \"RandomForestGeneric\" built\n",
      "[INFO 23-12-11 15:05:20.6035 -03 kernel.cc:1061] Use fast generic engine\n"
     ]
    },
    {
     "name": "stdout",
     "output_type": "stream",
     "text": [
      "|====================================================================================================| 100.00%"
     ]
    }
   ],
   "source": [
    "def testarIABoa_vsStupida(qtdTestes):\n",
    "    print(\"loading\")\n",
    "    game: Game = Game()\n",
    "    player1 = IA_Player(game, \"IA_Models/player1\")\n",
    "    player2 = Stupid_IA_Player(game)\n",
    "    wins_draws = []\n",
    "    for i in range(qtdTestes + 1):\n",
    "\n",
    "        pcent = i / qtdTestes\n",
    "        print('\\r|' + '=' * int(pcent * 100) + ' ' * int((1 - pcent) * 100) + \"| {:.2f}%\".format(pcent * 100), end='', flush=True)\n",
    "\n",
    "        game.reset()\n",
    "        \n",
    "        while not game.finished():\n",
    "            game.play(player1.nextMove())\n",
    "\n",
    "            if game.finished():\n",
    "                break\n",
    "\n",
    "            game.play(player2.nextMove())\n",
    "\n",
    "            pass\n",
    "\n",
    "        wins_draws.append({\n",
    "            \"winner\": game.winner(),\n",
    "            \"draw\": game.draw()\n",
    "        })\n",
    "    json.dump(wins_draws, open(\"win_draws_with_stupids\", 'w'))\n",
    "testarIABoa_vsStupida(10000)"
   ]
  },
  {
   "cell_type": "code",
   "execution_count": 10,
   "metadata": {},
   "outputs": [
    {
     "data": {
      "text/plain": [
       "winner  draw \n",
       "X       False    8772\n",
       "False   True      673\n",
       "Y       False     555\n",
       "Name: count, dtype: int64"
      ]
     },
     "execution_count": 10,
     "metadata": {},
     "output_type": "execute_result"
    }
   ],
   "source": [
    "df = pd.read_json('win_draws.json')\n",
    "df.value_counts()\n"
   ]
  },
  {
   "cell_type": "code",
   "execution_count": 11,
   "metadata": {},
   "outputs": [
    {
     "data": {
      "text/plain": [
       "winner  draw \n",
       "X       False    584984\n",
       "Y       False    288437\n",
       "False   True     126579\n",
       "Name: count, dtype: int64"
      ]
     },
     "execution_count": 11,
     "metadata": {},
     "output_type": "execute_result"
    }
   ],
   "source": [
    "df = pd.read_json('win_draws_with_stupids.json')\n",
    "df.value_counts()\n"
   ]
  }
 ],
 "metadata": {
  "kernelspec": {
   "display_name": "Python 3",
   "language": "python",
   "name": "python3"
  },
  "language_info": {
   "codemirror_mode": {
    "name": "ipython",
    "version": 3
   },
   "file_extension": ".py",
   "mimetype": "text/x-python",
   "name": "python",
   "nbconvert_exporter": "python",
   "pygments_lexer": "ipython3",
   "version": "3.10.12"
  }
 },
 "nbformat": 4,
 "nbformat_minor": 2
}
